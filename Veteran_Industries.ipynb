{
 "cells": [
  {
   "cell_type": "code",
   "execution_count": null,
   "id": "c314ee8c-4f0b-4672-9003-f20888f4fdf3",
   "metadata": {},
   "outputs": [],
   "source": [
    "#Import the package that will allow for us to go into the directory where the monthly csv files are\n",
    "import os"
   ]
  },
  {
   "cell_type": "code",
   "execution_count": null,
   "id": "1ed7f23a-b747-49c9-b9a9-07537fd830b2",
   "metadata": {},
   "outputs": [],
   "source": [
    "#Change the current working directory to the directory with the csv files\n",
    "os.chdir('/data/OA3802g1/census')"
   ]
  },
  {
   "cell_type": "code",
   "execution_count": null,
   "id": "ce1b98f2-388e-4812-8bc9-33feb8935091",
   "metadata": {},
   "outputs": [],
   "source": [
    "#Confirm that you are now in /data/OA3802g1/census dirctory\n",
    "os.getcwd()"
   ]
  },
  {
   "cell_type": "code",
   "execution_count": null,
   "id": "40752d92-fe37-4804-b418-686099c4c951",
   "metadata": {},
   "outputs": [],
   "source": [
    "#Create the master DataFrame\n",
    "df = pd.DataFrame()"
   ]
  },
  {
   "cell_type": "code",
   "execution_count": null,
   "id": "9e6bc0d2-922f-4337-a52e-197948f75151",
   "metadata": {},
   "outputs": [],
   "source": [
    "#Import the package that will allow us to cycle through the csv files and upload them into Pandas DataFrames\n",
    "import glob"
   ]
  },
  {
   "cell_type": "code",
   "execution_count": null,
   "id": "ab11e0fc-5d4b-4576-8b58-23e17d32e5b4",
   "metadata": {},
   "outputs": [],
   "source": [
    "#Run through each csv file in the /data/OA3802g1/census directory\n",
    "for FileList in glob.glob('*.csv'):\n",
    "    #Read each csv into a DataFrame\n",
    "    temp_df = pd.read_csv(FileList)\n",
    "    \n",
    "    #Make the column names all lowercase letters (numbers stay the same) to prevent issues with the concatenation\n",
    "    temp_df.columns = temp_df.columns.str.lower()\n",
    "    \n",
    "    #Concatenate the current DataFrame with the previous ones\n",
    "    df = pd.concat([df, temp_df], ignore_index=True)"
   ]
  },
  {
   "cell_type": "code",
   "execution_count": null,
   "id": "2aae34fd-121f-4a3f-ae6d-64bd48a94c3c",
   "metadata": {},
   "outputs": [],
   "source": [
    "#Filter the master dataframe so that it only contains veterans\n",
    "df = df.loc[df['peafever'] == 1] #1 = the respondent has served in the Armed Forces on active duty\n",
    "df = df.loc[df['peafnow'] == 2] #2 = the respondent is not currently in the Armed Forces"
   ]
  },
  {
   "cell_type": "code",
   "execution_count": null,
   "id": "a75c3e74-95a2-4538-9a3b-20cb915aa9cf",
   "metadata": {},
   "outputs": [],
   "source": [
    "#Remove the columns except for household ID, historical Armed Forces participation, current Armed Forces pariticpation, and current job industry \n",
    "df = df[['hrhhid2','peafever','peafnow','prdtind1']]"
   ]
  },
  {
   "cell_type": "code",
   "execution_count": null,
   "id": "d9575ba0-adc4-449f-9a98-648433f631c2",
   "metadata": {},
   "outputs": [],
   "source": [
    "#Create a new dataframe where the indices are the industries and the other column is how many veterans responded to working in each indutry\n",
    "industry = df['prdtind1'].value_counts().to_frame()"
   ]
  },
  {
   "cell_type": "code",
   "execution_count": null,
   "id": "2f09e22f-ddd4-4023-a2a9-d8ae2e55dccf",
   "metadata": {},
   "outputs": [],
   "source": [
    "#Industry now contains the top 6 industries by participation\n",
    "industry = industry.head(6)\n",
    "\n",
    "#-1 (an invalid entry) is the most popular, so we need to remove that row\n",
    "industry = industry.tail(5)"
   ]
  },
  {
   "cell_type": "code",
   "execution_count": null,
   "id": "0c5836eb-d2c7-4945-ba43-9ad6f9e91787",
   "metadata": {},
   "outputs": [],
   "source": [
    "#Reset the indices so that industry (prdtind1) becomes its own column\n",
    "industry = industry.reset_index()"
   ]
  },
  {
   "cell_type": "code",
   "execution_count": null,
   "id": "d948900d-c5ac-47fd-a851-4f29f8e16eae",
   "metadata": {},
   "outputs": [],
   "source": [
    "#Convert prdtind1 to be a string\n",
    "industry['prdtind1'] = industry['prdtind1'].astype(str)"
   ]
  },
  {
   "cell_type": "code",
   "execution_count": null,
   "id": "152e02f2-ea36-49f7-9d73-af57ee13268e",
   "metadata": {},
   "outputs": [],
   "source": [
    "#Replace the industry codes with their actual names\n",
    "industry = industry.replace({\"4.0\": \"Construction\", \n",
    "                  \"23.0\": \"Transportation and Warehousing\",\n",
    "                  \"51.0\": \"Public Administration\",\n",
    "                  \"42.0\": \"Health Care Services (except hospitals)\",\n",
    "                  \"36.0\": \"Professional, Scientific, or Technical Services\"})"
   ]
  },
  {
   "cell_type": "code",
   "execution_count": null,
   "id": "7e3b972d-891a-4ae6-b3df-8f46f0348ea4",
   "metadata": {},
   "outputs": [],
   "source": [
    "#Import the package that will allow us to create a bar graph\n",
    "import matplotlib"
   ]
  },
  {
   "cell_type": "code",
   "execution_count": null,
   "id": "55dc3624-5646-463e-8d7a-6c896e9d7d80",
   "metadata": {},
   "outputs": [],
   "source": [
    "#Create the bar graph of top 5 industries by veteran participation\n",
    "ax = industry.plot.bar(x='prdtind1', y='count', rot=75)"
   ]
  }
 ],
 "metadata": {
  "kernelspec": {
   "display_name": "Python 3 (ipykernel)",
   "language": "python",
   "name": "python3"
  },
  "language_info": {
   "codemirror_mode": {
    "name": "ipython",
    "version": 3
   },
   "file_extension": ".py",
   "mimetype": "text/x-python",
   "name": "python",
   "nbconvert_exporter": "python",
   "pygments_lexer": "ipython3",
   "version": "3.10.9"
  }
 },
 "nbformat": 4,
 "nbformat_minor": 5
}
